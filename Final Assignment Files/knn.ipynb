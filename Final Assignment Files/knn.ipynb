{
 "cells": [
  {
   "cell_type": "code",
   "execution_count": 1,
   "metadata": {},
   "outputs": [],
   "source": [
    "import pandas as pd\n",
    "from sklearn import preprocessing\n",
    "from sklearn.model_selection import KFold\n",
    "from sklearn.metrics import accuracy_score\n",
    "from sklearn.tree import DecisionTreeClassifier\n"
   ]
  },
  {
   "cell_type": "code",
   "execution_count": 2,
   "metadata": {},
   "outputs": [
    {
     "data": {
      "text/plain": [
       "'classification for Max Price Category VS Weather O(n**3) 20-fold 12-Depths'"
      ]
     },
     "execution_count": 2,
     "metadata": {},
     "output_type": "execute_result"
    }
   ],
   "source": [
    "\n",
    "'''classification for Max Price Category VS Weather O(n**3) 20-fold 12-Depths'''\n"
   ]
  },
  {
   "cell_type": "code",
   "execution_count": 3,
   "metadata": {},
   "outputs": [],
   "source": [
    "\n",
    "# read csv file\n",
    "dataset = pd.read_csv('combined_detail_cleaned.csv')\n",
    "\n",
    "# Selecting features\n",
    "features = dataset[['temperature_min','rainfall', \n",
    "                    'evaporation', 'sunshine', 'max_wind_speed']]\n",
    "\n",
    "classlabel = dataset['max_price_category']\n"
   ]
  },
  {
   "cell_type": "code",
   "execution_count": 4,
   "metadata": {},
   "outputs": [
    {
     "name": "stdout",
     "output_type": "stream",
     "text": [
      "The AVG 20-Fold Accuracy Score with Max depth of 12 is 0.5012820512820513\n"
     ]
    }
   ],
   "source": [
    "\n",
    "# K-fold Method (cross validation) with Classification Accuracy Formula\n",
    "k, x_times = 20, 12\n",
    "kf = KFold(n_splits = k, shuffle = True, random_state = 88)\n",
    "classification_accuracy = []\n",
    "\n",
    "# Implementation of K-fold Method\n",
    "for train_index, test_index in kf.split(features):\n",
    "    \n",
    "    # Split Training and Test sets\n",
    "    features_train, feature_test = features.iloc[train_index, :], features.iloc[test_index, :]\n",
    "    class_train, class_test = classlabel[train_index], classlabel[test_index]\n",
    "    \n",
    "    # Scaling the features\n",
    "    scalar = preprocessing.StandardScaler().fit(features_train)\n",
    "    features_train = scalar.transform(features_train)\n",
    "    feature_test = scalar.transform(feature_test)\n",
    "\n",
    "    # Step 1: Instantiate \n",
    "    dt = DecisionTreeClassifier(\n",
    "        criterion='entropy', random_state=88, max_depth = x_times)\n",
    "    \n",
    "    # Step 2: Fit\n",
    "    dt.fit(features_train, class_train)\n",
    "    \n",
    "    # Step 3: Predict\n",
    "    predictions = dt.predict(feature_test)\n",
    "    \n",
    "    # Step 4: Evaluate\n",
    "    my_score=accuracy_score(class_test, predictions)\n",
    "    classification_accuracy.append(my_score)\n",
    "print(f'The AVG {k}-Fold Accuracy Score with Max depth of {x_times} is {sum(classification_accuracy)/k}')"
   ]
  }
 ],
 "metadata": {
  "kernelspec": {
   "display_name": "Python 3.9.12 ('base')",
   "language": "python",
   "name": "python3"
  },
  "language_info": {
   "codemirror_mode": {
    "name": "ipython",
    "version": 3
   },
   "file_extension": ".py",
   "mimetype": "text/x-python",
   "name": "python",
   "nbconvert_exporter": "python",
   "pygments_lexer": "ipython3",
   "version": "3.9.12"
  },
  "orig_nbformat": 4,
  "vscode": {
   "interpreter": {
    "hash": "ad2bdc8ecc057115af97d19610ffacc2b4e99fae6737bb82f5d7fb13d2f2c186"
   }
  }
 },
 "nbformat": 4,
 "nbformat_minor": 2
}
