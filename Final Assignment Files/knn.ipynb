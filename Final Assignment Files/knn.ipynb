{
 "cells": [
  {
   "cell_type": "code",
   "execution_count": 1,
   "metadata": {},
   "outputs": [
    {
     "data": {
      "text/plain": [
       "'classification for Max Price Category VS Weather'"
      ]
     },
     "execution_count": 1,
     "metadata": {},
     "output_type": "execute_result"
    }
   ],
   "source": [
    "import pandas as pd\n",
    "import plotly.express as px\n",
    "from sklearn import neighbors\n",
    "from sklearn import preprocessing\n",
    "from sklearn.metrics import accuracy_score\n",
    "from sklearn.model_selection import train_test_split\n",
    "\n",
    "'''classification for Max Price Category VS Weather'''"
   ]
  },
  {
   "cell_type": "code",
   "execution_count": 2,
   "metadata": {},
   "outputs": [],
   "source": [
    "# read csv file\n",
    "dataset = pd.read_csv('combined_detail_cleaned.csv')\n",
    "\n",
    "# Selecting features\n",
    "features = dataset[['temperature_min', 'rainfall', \n",
    "                    'sunshine', 'max_wind_speed']]\n",
    "\n",
    "classlabel = dataset['max_price_category']"
   ]
  },
  {
   "cell_type": "code",
   "execution_count": 3,
   "metadata": {},
   "outputs": [
    {
     "name": "stdout",
     "output_type": "stream",
     "text": [
      "The Score with 9-neighbors is 0.6\n"
     ]
    }
   ],
   "source": [
    "# K-fold Method (cross validation) with Classification Accuracy Formula\n",
    "my_neighbors = 9\n",
    "    \n",
    "# Split Training and Test sets\n",
    "features_train, feature_test, class_train, class_test = train_test_split(\n",
    "    features, classlabel, train_size=0.9, random_state=1)\n",
    "\n",
    "# Scaling the features\n",
    "scalar = preprocessing.StandardScaler().fit(features_train)\n",
    "features_train = scalar.transform(features_train)\n",
    "feature_test = scalar.transform(feature_test)\n",
    "\n",
    "# Step 1: Instantiate \n",
    "knn = neighbors.KNeighborsClassifier(n_neighbors = my_neighbors)\n",
    "\n",
    "# Step 2: Fit\n",
    "knn.fit(features_train, class_train)\n",
    "\n",
    "# Step 3: Predict\n",
    "predictions = knn.predict(feature_test)\n",
    "\n",
    "# Step 4: Evaluate\n",
    "my_score=accuracy_score(class_test, predictions)\n",
    "print(f'The Score with {my_neighbors}-neighbors is {my_score}')\n"
   ]
  },
  {
   "cell_type": "code",
   "execution_count": null,
   "metadata": {},
   "outputs": [],
   "source": [
    "# Plot\n",
    "fig = px.scatter(\n",
    "feature_test, x=0, y=1,\n",
    "color=predictions, color_continuous_scale='RdBu',\n",
    "symbol=class_test, symbol_map={'0': 'square-dot', '1': 'circle-dot'},\n",
    "labels={'symbol': 'label', 'color': 'score of <br>first class'}\n",
    ")\n",
    "fig.update_traces(marker_size=12, marker_line_width=1.5)\n",
    "fig.update_layout(legend_orientation='h')\n",
    "fig.show()\n"
   ]
  }
 ],
 "metadata": {
  "kernelspec": {
   "display_name": "Python 3.9.12 ('base')",
   "language": "python",
   "name": "python3"
  },
  "language_info": {
   "codemirror_mode": {
    "name": "ipython",
    "version": 3
   },
   "file_extension": ".py",
   "mimetype": "text/x-python",
   "name": "python",
   "nbconvert_exporter": "python",
   "pygments_lexer": "ipython3",
   "version": "3.9.12"
  },
  "orig_nbformat": 4,
  "vscode": {
   "interpreter": {
    "hash": "ad2bdc8ecc057115af97d19610ffacc2b4e99fae6737bb82f5d7fb13d2f2c186"
   }
  }
 },
 "nbformat": 4,
 "nbformat_minor": 2
}
