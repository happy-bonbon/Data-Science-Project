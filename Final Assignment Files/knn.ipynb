{
 "cells": [
  {
   "cell_type": "code",
   "execution_count": 3,
   "metadata": {},
   "outputs": [
    {
     "data": {
      "text/plain": [
       "'classification for Max Price Category VS Weather'"
      ]
     },
     "execution_count": 3,
     "metadata": {},
     "output_type": "execute_result"
    }
   ],
   "source": [
    "import pandas as pd\n",
    "import plotly.express as px\n",
    "from sklearn import neighbors\n",
    "from sklearn import preprocessing\n",
    "from sklearn.metrics import accuracy_score\n",
    "from sklearn.model_selection import train_test_split\n",
    "\n",
    "'''classification for Max Price Category VS Weather'''"
   ]
  },
  {
   "cell_type": "code",
   "execution_count": 4,
   "metadata": {},
   "outputs": [],
   "source": [
    "# read csv file\n",
    "dataset = pd.read_csv('combined_detail_cleaned.csv')\n",
    "\n",
    "# Selecting features\n",
    "features = dataset[['temperature_min', 'rainfall', \n",
    "                    'evaporation', 'sunshine', 'max_wind_speed']]\n",
    "\n",
    "classlabel = dataset['max_price_category']"
   ]
  },
  {
   "cell_type": "code",
   "execution_count": 5,
   "metadata": {},
   "outputs": [
    {
     "data": {
      "application/vnd.plotly.v1+json": {
       "config": {
        "plotlyServerURL": "https://plot.ly"
       },
       "data": [
        {
         "hovertemplate": "score of <br>first class=HIGH<br>label=MEDIUM<br>0=%{x}<br>1=%{y}<extra></extra>",
         "legendgroup": "HIGH, MEDIUM",
         "marker": {
          "color": "#636efa",
          "line": {
           "width": 1.5
          },
          "size": 12,
          "symbol": "square"
         },
         "mode": "markers",
         "name": "HIGH, MEDIUM",
         "orientation": "v",
         "showlegend": true,
         "type": "scatter",
         "x": [
          0.6323840770251528,
          0.0014310275349260582,
          -1.4371419253027908,
          0.5566697110863253
         ],
         "xaxis": "x",
         "y": [
          1.0200743196997943,
          -0.3942055338172842,
          -0.3942055338172842,
          0.49626696654532076
         ],
         "yaxis": "y"
        },
        {
         "hovertemplate": "score of <br>first class=HIGH<br>label=HIGH<br>0=%{x}<br>1=%{y}<extra></extra>",
         "legendgroup": "HIGH, HIGH",
         "marker": {
          "color": "#636efa",
          "line": {
           "width": 1.5
          },
          "size": 12,
          "symbol": "x"
         },
         "mode": "markers",
         "name": "HIGH, HIGH",
         "orientation": "v",
         "showlegend": true,
         "type": "scatter",
         "x": [
          -1.3109513154047454,
          0.3295266132698441,
          -0.2761883142407736
         ],
         "xaxis": "x",
         "y": [
          -0.18468259255549477,
          -0.3942055338172842,
          -0.3942055338172842
         ],
         "yaxis": "y"
        },
        {
         "hovertemplate": "score of <br>first class=HIGH<br>label=LOW<br>0=%{x}<br>1=%{y}<extra></extra>",
         "legendgroup": "HIGH, LOW",
         "marker": {
          "color": "#636efa",
          "line": {
           "width": 1.5
          },
          "size": 12,
          "symbol": "cross"
         },
         "mode": "markers",
         "name": "HIGH, LOW",
         "orientation": "v",
         "showlegend": true,
         "type": "scatter",
         "x": [
          0.6576221990047617
         ],
         "xaxis": "x",
         "y": [
          -0.3942055338172842
         ],
         "yaxis": "y"
        },
        {
         "hovertemplate": "score of <br>first class=HIGH<br>label=EXTREME<br>0=%{x}<br>1=%{y}<extra></extra>",
         "legendgroup": "HIGH, EXTREME",
         "marker": {
          "color": "#636efa",
          "line": {
           "width": 1.5
          },
          "size": 12,
          "symbol": "circle"
         },
         "mode": "markers",
         "name": "HIGH, EXTREME",
         "orientation": "v",
         "showlegend": true,
         "type": "scatter",
         "x": [
          0.5314315891067164,
          -0.326664558199992,
          -1.487618169262009
         ],
         "xaxis": "x",
         "y": [
          -0.3942055338172842,
          -0.34182479850183684,
          -0.23706332787094214
         ],
         "yaxis": "y"
        },
        {
         "hovertemplate": "score of <br>first class=MEDIUM<br>label=MEDIUM<br>0=%{x}<br>1=%{y}<extra></extra>",
         "legendgroup": "MEDIUM, MEDIUM",
         "marker": {
          "color": "#EF553B",
          "line": {
           "width": 1.5
          },
          "size": 12,
          "symbol": "square"
         },
         "mode": "markers",
         "name": "MEDIUM, MEDIUM",
         "orientation": "v",
         "showlegend": true,
         "type": "scatter",
         "x": [
          0.3800028572290621,
          1.0614321506785067,
          0.25381224733101676,
          -0.37714080215921,
          -0.17523582632233722,
          0.6323840770251528,
          0.15285975941258037,
          0.35476473524945307,
          1.8438139320463882
         ],
         "xaxis": "x",
         "y": [
          -0.34182479850183684,
          -0.3942055338172842,
          -0.3942055338172842,
          -0.3942055338172842,
          -0.3942055338172842,
          -0.3942055338172842,
          -0.3942055338172842,
          -0.3942055338172842,
          -0.3942055338172842
         ],
         "yaxis": "y"
        },
        {
         "hovertemplate": "score of <br>first class=MEDIUM<br>label=LOW<br>0=%{x}<br>1=%{y}<extra></extra>",
         "legendgroup": "MEDIUM, LOW",
         "marker": {
          "color": "#EF553B",
          "line": {
           "width": 1.5
          },
          "size": 12,
          "symbol": "cross"
         },
         "mode": "markers",
         "name": "MEDIUM, LOW",
         "orientation": "v",
         "showlegend": true,
         "type": "scatter",
         "x": [
          1.111908394637725,
          0.6323840770251528,
          0.43047910118828003,
          0.6828603209843707
         ],
         "xaxis": "x",
         "y": [
          -0.3942055338172842,
          -0.3942055338172842,
          -0.3942055338172842,
          -0.3942055338172842
         ],
         "yaxis": "y"
        },
        {
         "hovertemplate": "score of <br>first class=MEDIUM<br>label=EXTREME<br>0=%{x}<br>1=%{y}<extra></extra>",
         "legendgroup": "MEDIUM, EXTREME",
         "marker": {
          "color": "#EF553B",
          "line": {
           "width": 1.5
          },
          "size": 12,
          "symbol": "circle"
         },
         "mode": "markers",
         "name": "MEDIUM, EXTREME",
         "orientation": "v",
         "showlegend": true,
         "type": "scatter",
         "x": [
          -0.47809329007764634
         ],
         "xaxis": "x",
         "y": [
          -0.23706332787094214
         ],
         "yaxis": "y"
        },
        {
         "hovertemplate": "score of <br>first class=EXTREME<br>label=MEDIUM<br>0=%{x}<br>1=%{y}<extra></extra>",
         "legendgroup": "EXTREME, MEDIUM",
         "marker": {
          "color": "#00cc96",
          "line": {
           "width": 1.5
          },
          "size": 12,
          "symbol": "square"
         },
         "mode": "markers",
         "name": "EXTREME, MEDIUM",
         "orientation": "v",
         "showlegend": true,
         "type": "scatter",
         "x": [
          0.10238351545336241
         ],
         "xaxis": "x",
         "y": [
          -0.3942055338172842
         ],
         "yaxis": "y"
        },
        {
         "hovertemplate": "score of <br>first class=EXTREME<br>label=HIGH<br>0=%{x}<br>1=%{y}<extra></extra>",
         "legendgroup": "EXTREME, HIGH",
         "marker": {
          "color": "#00cc96",
          "line": {
           "width": 1.5
          },
          "size": 12,
          "symbol": "x"
         },
         "mode": "markers",
         "name": "EXTREME, HIGH",
         "orientation": "v",
         "showlegend": true,
         "type": "scatter",
         "x": [
          -0.07428333840390132,
          -0.2509501922611646,
          -1.0333319736290456,
          -1.3866656813435727,
          -0.730474509873737
         ],
         "xaxis": "x",
         "y": [
          -0.34182479850183684,
          1.0724550550152416,
          -0.3942055338172842,
          -0.3942055338172842,
          -0.3942055338172842
         ],
         "yaxis": "y"
        },
        {
         "hovertemplate": "score of <br>first class=EXTREME<br>label=LOW<br>0=%{x}<br>1=%{y}<extra></extra>",
         "legendgroup": "EXTREME, LOW",
         "marker": {
          "color": "#00cc96",
          "line": {
           "width": 1.5
          },
          "size": 12,
          "symbol": "cross"
         },
         "mode": "markers",
         "name": "EXTREME, LOW",
         "orientation": "v",
         "showlegend": true,
         "type": "scatter",
         "x": [
          -0.0995214603835103,
          1.2380990045357705,
          -0.5285695340368642,
          1.4400039803726428
         ],
         "xaxis": "x",
         "y": [
          -0.3942055338172842,
          2.5391156438477673,
          -0.3942055338172842,
          10.920033294319344
         ],
         "yaxis": "y"
        },
        {
         "hovertemplate": "score of <br>first class=EXTREME<br>label=EXTREME<br>0=%{x}<br>1=%{y}<extra></extra>",
         "legendgroup": "EXTREME, EXTREME",
         "marker": {
          "color": "#00cc96",
          "line": {
           "width": 1.5
          },
          "size": 12,
          "symbol": "circle"
         },
         "mode": "markers",
         "name": "EXTREME, EXTREME",
         "orientation": "v",
         "showlegend": true,
         "type": "scatter",
         "x": [
          -1.6138087791600544,
          -1.3109513154047454,
          0.20333600337179877,
          -0.47809329007764634,
          -0.12475958236311928,
          -0.705236387894128,
          -0.9071413637310003,
          -1.0838082175882637,
          -1.134284461547482
         ],
         "xaxis": "x",
         "y": [
          -0.2894440631863895,
          -0.23706332787094214,
          -0.23706332787094214,
          0.18198255465263674,
          -0.3942055338172842,
          -0.3942055338172842,
          -0.2894440631863895,
          -0.18468259255549477,
          2.434354173216873
         ],
         "yaxis": "y"
        },
        {
         "hovertemplate": "score of <br>first class=LOW<br>label=MEDIUM<br>0=%{x}<br>1=%{y}<extra></extra>",
         "legendgroup": "LOW, MEDIUM",
         "marker": {
          "color": "#ab63fa",
          "line": {
           "width": 1.5
          },
          "size": 12,
          "symbol": "square"
         },
         "mode": "markers",
         "name": "LOW, MEDIUM",
         "orientation": "v",
         "showlegend": true,
         "type": "scatter",
         "x": [
          0.6071459550455438
         ],
         "xaxis": "x",
         "y": [
          -0.3942055338172842
         ],
         "yaxis": "y"
        },
        {
         "hovertemplate": "score of <br>first class=LOW<br>label=LOW<br>0=%{x}<br>1=%{y}<extra></extra>",
         "legendgroup": "LOW, LOW",
         "marker": {
          "color": "#ab63fa",
          "line": {
           "width": 1.5
          },
          "size": 12,
          "symbol": "cross"
         },
         "mode": "markers",
         "name": "LOW, LOW",
         "orientation": "v",
         "showlegend": true,
         "type": "scatter",
         "x": [
          1.7428614441279513,
          1.0109559067192888,
          0.8090509308824161,
          1.5914327122502976
         ],
         "xaxis": "x",
         "y": [
          -0.3942055338172842,
          -0.2894440631863895,
          -0.3942055338172842,
          -0.2894440631863895
         ],
         "yaxis": "y"
        }
       ],
       "layout": {
        "legend": {
         "orientation": "h",
         "title": {
          "text": "score of <br>first class, label"
         },
         "tracegroupgap": 0
        },
        "margin": {
         "t": 60
        },
        "template": {
         "data": {
          "bar": [
           {
            "error_x": {
             "color": "#2a3f5f"
            },
            "error_y": {
             "color": "#2a3f5f"
            },
            "marker": {
             "line": {
              "color": "#E5ECF6",
              "width": 0.5
             },
             "pattern": {
              "fillmode": "overlay",
              "size": 10,
              "solidity": 0.2
             }
            },
            "type": "bar"
           }
          ],
          "barpolar": [
           {
            "marker": {
             "line": {
              "color": "#E5ECF6",
              "width": 0.5
             },
             "pattern": {
              "fillmode": "overlay",
              "size": 10,
              "solidity": 0.2
             }
            },
            "type": "barpolar"
           }
          ],
          "carpet": [
           {
            "aaxis": {
             "endlinecolor": "#2a3f5f",
             "gridcolor": "white",
             "linecolor": "white",
             "minorgridcolor": "white",
             "startlinecolor": "#2a3f5f"
            },
            "baxis": {
             "endlinecolor": "#2a3f5f",
             "gridcolor": "white",
             "linecolor": "white",
             "minorgridcolor": "white",
             "startlinecolor": "#2a3f5f"
            },
            "type": "carpet"
           }
          ],
          "choropleth": [
           {
            "colorbar": {
             "outlinewidth": 0,
             "ticks": ""
            },
            "type": "choropleth"
           }
          ],
          "contour": [
           {
            "colorbar": {
             "outlinewidth": 0,
             "ticks": ""
            },
            "colorscale": [
             [
              0,
              "#0d0887"
             ],
             [
              0.1111111111111111,
              "#46039f"
             ],
             [
              0.2222222222222222,
              "#7201a8"
             ],
             [
              0.3333333333333333,
              "#9c179e"
             ],
             [
              0.4444444444444444,
              "#bd3786"
             ],
             [
              0.5555555555555556,
              "#d8576b"
             ],
             [
              0.6666666666666666,
              "#ed7953"
             ],
             [
              0.7777777777777778,
              "#fb9f3a"
             ],
             [
              0.8888888888888888,
              "#fdca26"
             ],
             [
              1,
              "#f0f921"
             ]
            ],
            "type": "contour"
           }
          ],
          "contourcarpet": [
           {
            "colorbar": {
             "outlinewidth": 0,
             "ticks": ""
            },
            "type": "contourcarpet"
           }
          ],
          "heatmap": [
           {
            "colorbar": {
             "outlinewidth": 0,
             "ticks": ""
            },
            "colorscale": [
             [
              0,
              "#0d0887"
             ],
             [
              0.1111111111111111,
              "#46039f"
             ],
             [
              0.2222222222222222,
              "#7201a8"
             ],
             [
              0.3333333333333333,
              "#9c179e"
             ],
             [
              0.4444444444444444,
              "#bd3786"
             ],
             [
              0.5555555555555556,
              "#d8576b"
             ],
             [
              0.6666666666666666,
              "#ed7953"
             ],
             [
              0.7777777777777778,
              "#fb9f3a"
             ],
             [
              0.8888888888888888,
              "#fdca26"
             ],
             [
              1,
              "#f0f921"
             ]
            ],
            "type": "heatmap"
           }
          ],
          "heatmapgl": [
           {
            "colorbar": {
             "outlinewidth": 0,
             "ticks": ""
            },
            "colorscale": [
             [
              0,
              "#0d0887"
             ],
             [
              0.1111111111111111,
              "#46039f"
             ],
             [
              0.2222222222222222,
              "#7201a8"
             ],
             [
              0.3333333333333333,
              "#9c179e"
             ],
             [
              0.4444444444444444,
              "#bd3786"
             ],
             [
              0.5555555555555556,
              "#d8576b"
             ],
             [
              0.6666666666666666,
              "#ed7953"
             ],
             [
              0.7777777777777778,
              "#fb9f3a"
             ],
             [
              0.8888888888888888,
              "#fdca26"
             ],
             [
              1,
              "#f0f921"
             ]
            ],
            "type": "heatmapgl"
           }
          ],
          "histogram": [
           {
            "marker": {
             "pattern": {
              "fillmode": "overlay",
              "size": 10,
              "solidity": 0.2
             }
            },
            "type": "histogram"
           }
          ],
          "histogram2d": [
           {
            "colorbar": {
             "outlinewidth": 0,
             "ticks": ""
            },
            "colorscale": [
             [
              0,
              "#0d0887"
             ],
             [
              0.1111111111111111,
              "#46039f"
             ],
             [
              0.2222222222222222,
              "#7201a8"
             ],
             [
              0.3333333333333333,
              "#9c179e"
             ],
             [
              0.4444444444444444,
              "#bd3786"
             ],
             [
              0.5555555555555556,
              "#d8576b"
             ],
             [
              0.6666666666666666,
              "#ed7953"
             ],
             [
              0.7777777777777778,
              "#fb9f3a"
             ],
             [
              0.8888888888888888,
              "#fdca26"
             ],
             [
              1,
              "#f0f921"
             ]
            ],
            "type": "histogram2d"
           }
          ],
          "histogram2dcontour": [
           {
            "colorbar": {
             "outlinewidth": 0,
             "ticks": ""
            },
            "colorscale": [
             [
              0,
              "#0d0887"
             ],
             [
              0.1111111111111111,
              "#46039f"
             ],
             [
              0.2222222222222222,
              "#7201a8"
             ],
             [
              0.3333333333333333,
              "#9c179e"
             ],
             [
              0.4444444444444444,
              "#bd3786"
             ],
             [
              0.5555555555555556,
              "#d8576b"
             ],
             [
              0.6666666666666666,
              "#ed7953"
             ],
             [
              0.7777777777777778,
              "#fb9f3a"
             ],
             [
              0.8888888888888888,
              "#fdca26"
             ],
             [
              1,
              "#f0f921"
             ]
            ],
            "type": "histogram2dcontour"
           }
          ],
          "mesh3d": [
           {
            "colorbar": {
             "outlinewidth": 0,
             "ticks": ""
            },
            "type": "mesh3d"
           }
          ],
          "parcoords": [
           {
            "line": {
             "colorbar": {
              "outlinewidth": 0,
              "ticks": ""
             }
            },
            "type": "parcoords"
           }
          ],
          "pie": [
           {
            "automargin": true,
            "type": "pie"
           }
          ],
          "scatter": [
           {
            "marker": {
             "colorbar": {
              "outlinewidth": 0,
              "ticks": ""
             }
            },
            "type": "scatter"
           }
          ],
          "scatter3d": [
           {
            "line": {
             "colorbar": {
              "outlinewidth": 0,
              "ticks": ""
             }
            },
            "marker": {
             "colorbar": {
              "outlinewidth": 0,
              "ticks": ""
             }
            },
            "type": "scatter3d"
           }
          ],
          "scattercarpet": [
           {
            "marker": {
             "colorbar": {
              "outlinewidth": 0,
              "ticks": ""
             }
            },
            "type": "scattercarpet"
           }
          ],
          "scattergeo": [
           {
            "marker": {
             "colorbar": {
              "outlinewidth": 0,
              "ticks": ""
             }
            },
            "type": "scattergeo"
           }
          ],
          "scattergl": [
           {
            "marker": {
             "colorbar": {
              "outlinewidth": 0,
              "ticks": ""
             }
            },
            "type": "scattergl"
           }
          ],
          "scattermapbox": [
           {
            "marker": {
             "colorbar": {
              "outlinewidth": 0,
              "ticks": ""
             }
            },
            "type": "scattermapbox"
           }
          ],
          "scatterpolar": [
           {
            "marker": {
             "colorbar": {
              "outlinewidth": 0,
              "ticks": ""
             }
            },
            "type": "scatterpolar"
           }
          ],
          "scatterpolargl": [
           {
            "marker": {
             "colorbar": {
              "outlinewidth": 0,
              "ticks": ""
             }
            },
            "type": "scatterpolargl"
           }
          ],
          "scatterternary": [
           {
            "marker": {
             "colorbar": {
              "outlinewidth": 0,
              "ticks": ""
             }
            },
            "type": "scatterternary"
           }
          ],
          "surface": [
           {
            "colorbar": {
             "outlinewidth": 0,
             "ticks": ""
            },
            "colorscale": [
             [
              0,
              "#0d0887"
             ],
             [
              0.1111111111111111,
              "#46039f"
             ],
             [
              0.2222222222222222,
              "#7201a8"
             ],
             [
              0.3333333333333333,
              "#9c179e"
             ],
             [
              0.4444444444444444,
              "#bd3786"
             ],
             [
              0.5555555555555556,
              "#d8576b"
             ],
             [
              0.6666666666666666,
              "#ed7953"
             ],
             [
              0.7777777777777778,
              "#fb9f3a"
             ],
             [
              0.8888888888888888,
              "#fdca26"
             ],
             [
              1,
              "#f0f921"
             ]
            ],
            "type": "surface"
           }
          ],
          "table": [
           {
            "cells": {
             "fill": {
              "color": "#EBF0F8"
             },
             "line": {
              "color": "white"
             }
            },
            "header": {
             "fill": {
              "color": "#C8D4E3"
             },
             "line": {
              "color": "white"
             }
            },
            "type": "table"
           }
          ]
         },
         "layout": {
          "annotationdefaults": {
           "arrowcolor": "#2a3f5f",
           "arrowhead": 0,
           "arrowwidth": 1
          },
          "autotypenumbers": "strict",
          "coloraxis": {
           "colorbar": {
            "outlinewidth": 0,
            "ticks": ""
           }
          },
          "colorscale": {
           "diverging": [
            [
             0,
             "#8e0152"
            ],
            [
             0.1,
             "#c51b7d"
            ],
            [
             0.2,
             "#de77ae"
            ],
            [
             0.3,
             "#f1b6da"
            ],
            [
             0.4,
             "#fde0ef"
            ],
            [
             0.5,
             "#f7f7f7"
            ],
            [
             0.6,
             "#e6f5d0"
            ],
            [
             0.7,
             "#b8e186"
            ],
            [
             0.8,
             "#7fbc41"
            ],
            [
             0.9,
             "#4d9221"
            ],
            [
             1,
             "#276419"
            ]
           ],
           "sequential": [
            [
             0,
             "#0d0887"
            ],
            [
             0.1111111111111111,
             "#46039f"
            ],
            [
             0.2222222222222222,
             "#7201a8"
            ],
            [
             0.3333333333333333,
             "#9c179e"
            ],
            [
             0.4444444444444444,
             "#bd3786"
            ],
            [
             0.5555555555555556,
             "#d8576b"
            ],
            [
             0.6666666666666666,
             "#ed7953"
            ],
            [
             0.7777777777777778,
             "#fb9f3a"
            ],
            [
             0.8888888888888888,
             "#fdca26"
            ],
            [
             1,
             "#f0f921"
            ]
           ],
           "sequentialminus": [
            [
             0,
             "#0d0887"
            ],
            [
             0.1111111111111111,
             "#46039f"
            ],
            [
             0.2222222222222222,
             "#7201a8"
            ],
            [
             0.3333333333333333,
             "#9c179e"
            ],
            [
             0.4444444444444444,
             "#bd3786"
            ],
            [
             0.5555555555555556,
             "#d8576b"
            ],
            [
             0.6666666666666666,
             "#ed7953"
            ],
            [
             0.7777777777777778,
             "#fb9f3a"
            ],
            [
             0.8888888888888888,
             "#fdca26"
            ],
            [
             1,
             "#f0f921"
            ]
           ]
          },
          "colorway": [
           "#636efa",
           "#EF553B",
           "#00cc96",
           "#ab63fa",
           "#FFA15A",
           "#19d3f3",
           "#FF6692",
           "#B6E880",
           "#FF97FF",
           "#FECB52"
          ],
          "font": {
           "color": "#2a3f5f"
          },
          "geo": {
           "bgcolor": "white",
           "lakecolor": "white",
           "landcolor": "#E5ECF6",
           "showlakes": true,
           "showland": true,
           "subunitcolor": "white"
          },
          "hoverlabel": {
           "align": "left"
          },
          "hovermode": "closest",
          "mapbox": {
           "style": "light"
          },
          "paper_bgcolor": "white",
          "plot_bgcolor": "#E5ECF6",
          "polar": {
           "angularaxis": {
            "gridcolor": "white",
            "linecolor": "white",
            "ticks": ""
           },
           "bgcolor": "#E5ECF6",
           "radialaxis": {
            "gridcolor": "white",
            "linecolor": "white",
            "ticks": ""
           }
          },
          "scene": {
           "xaxis": {
            "backgroundcolor": "#E5ECF6",
            "gridcolor": "white",
            "gridwidth": 2,
            "linecolor": "white",
            "showbackground": true,
            "ticks": "",
            "zerolinecolor": "white"
           },
           "yaxis": {
            "backgroundcolor": "#E5ECF6",
            "gridcolor": "white",
            "gridwidth": 2,
            "linecolor": "white",
            "showbackground": true,
            "ticks": "",
            "zerolinecolor": "white"
           },
           "zaxis": {
            "backgroundcolor": "#E5ECF6",
            "gridcolor": "white",
            "gridwidth": 2,
            "linecolor": "white",
            "showbackground": true,
            "ticks": "",
            "zerolinecolor": "white"
           }
          },
          "shapedefaults": {
           "line": {
            "color": "#2a3f5f"
           }
          },
          "ternary": {
           "aaxis": {
            "gridcolor": "white",
            "linecolor": "white",
            "ticks": ""
           },
           "baxis": {
            "gridcolor": "white",
            "linecolor": "white",
            "ticks": ""
           },
           "bgcolor": "#E5ECF6",
           "caxis": {
            "gridcolor": "white",
            "linecolor": "white",
            "ticks": ""
           }
          },
          "title": {
           "x": 0.05
          },
          "xaxis": {
           "automargin": true,
           "gridcolor": "white",
           "linecolor": "white",
           "ticks": "",
           "title": {
            "standoff": 15
           },
           "zerolinecolor": "white",
           "zerolinewidth": 2
          },
          "yaxis": {
           "automargin": true,
           "gridcolor": "white",
           "linecolor": "white",
           "ticks": "",
           "title": {
            "standoff": 15
           },
           "zerolinecolor": "white",
           "zerolinewidth": 2
          }
         }
        },
        "xaxis": {
         "anchor": "y",
         "domain": [
          0,
          1
         ],
         "title": {
          "text": "0"
         }
        },
        "yaxis": {
         "anchor": "x",
         "domain": [
          0,
          1
         ],
         "title": {
          "text": "1"
         }
        }
       }
      }
     },
     "metadata": {},
     "output_type": "display_data"
    },
    {
     "name": "stdout",
     "output_type": "stream",
     "text": [
      "The Accuracy Score with 8-neighbors is 0.5102040816326531\n"
     ]
    }
   ],
   "source": [
    "# K-fold Method (cross validation) with Classification Accuracy Formula\n",
    "my_neighbors = 8\n",
    "    \n",
    "# Split Training and Test sets\n",
    "features_train, feature_test, class_train, class_test = train_test_split(\n",
    "    features, classlabel, train_size=0.8, random_state=1)\n",
    "\n",
    "# Scaling the features\n",
    "scalar = preprocessing.StandardScaler().fit(features_train)\n",
    "features_train = scalar.transform(features_train)\n",
    "feature_test = scalar.transform(feature_test)\n",
    "\n",
    "# Step 1: Instantiate \n",
    "knn = neighbors.KNeighborsClassifier(n_neighbors = my_neighbors)\n",
    "\n",
    "# Step 2: Fit\n",
    "knn.fit(features_train, class_train)\n",
    "\n",
    "# Step 3: Predict\n",
    "predictions = knn.predict(feature_test)\n",
    "\n",
    "# Step 4: Evaluate\n",
    "my_score=accuracy_score(class_test, predictions)\n",
    "print(f'The Accuracy Score with {my_neighbors}-neighbors is {my_score}')\n"
   ]
  },
  {
   "cell_type": "code",
   "execution_count": null,
   "metadata": {},
   "outputs": [],
   "source": [
    "# Plot\n",
    "fig = px.scatter(\n",
    "feature_test, x=0, y=1,\n",
    "color=predictions, color_continuous_scale='RdBu',\n",
    "symbol=class_test, symbol_map={'0': 'square-dot', '1': 'circle-dot'},\n",
    "labels={'symbol': 'label', 'color': 'score of <br>first class'}\n",
    ")\n",
    "fig.update_traces(marker_size=12, marker_line_width=1.5)\n",
    "fig.update_layout(legend_orientation='h')\n",
    "fig.show()\n"
   ]
  }
 ],
 "metadata": {
  "kernelspec": {
   "display_name": "Python 3.9.12 ('base')",
   "language": "python",
   "name": "python3"
  },
  "language_info": {
   "codemirror_mode": {
    "name": "ipython",
    "version": 3
   },
   "file_extension": ".py",
   "mimetype": "text/x-python",
   "name": "python",
   "nbconvert_exporter": "python",
   "pygments_lexer": "ipython3",
   "version": "3.9.12"
  },
  "orig_nbformat": 4,
  "vscode": {
   "interpreter": {
    "hash": "ad2bdc8ecc057115af97d19610ffacc2b4e99fae6737bb82f5d7fb13d2f2c186"
   }
  }
 },
 "nbformat": 4,
 "nbformat_minor": 2
}
