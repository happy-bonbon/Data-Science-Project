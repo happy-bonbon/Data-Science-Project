{
 "cells": [
  {
   "cell_type": "code",
   "execution_count": 1,
   "metadata": {},
   "outputs": [],
   "source": [
    "# linear regression = demand prediction model\n",
    "import pandas as pd\n",
    "import numpy as np"
   ]
  },
  {
   "cell_type": "code",
   "execution_count": 2,
   "metadata": {},
   "outputs": [
    {
     "data": {
      "text/html": [
       "<div>\n",
       "<style scoped>\n",
       "    .dataframe tbody tr th:only-of-type {\n",
       "        vertical-align: middle;\n",
       "    }\n",
       "\n",
       "    .dataframe tbody tr th {\n",
       "        vertical-align: top;\n",
       "    }\n",
       "\n",
       "    .dataframe thead th {\n",
       "        text-align: right;\n",
       "    }\n",
       "</style>\n",
       "<table border=\"1\" class=\"dataframe\">\n",
       "  <thead>\n",
       "    <tr style=\"text-align: right;\">\n",
       "      <th></th>\n",
       "      <th>max_total_demand</th>\n",
       "      <th>max_price_category</th>\n",
       "      <th>temperature_min</th>\n",
       "      <th>temperature_max</th>\n",
       "      <th>rainfall</th>\n",
       "      <th>evaporation</th>\n",
       "      <th>sunshine</th>\n",
       "      <th>max_wind_direction</th>\n",
       "      <th>max_wind_speed</th>\n",
       "      <th>max_wind_time</th>\n",
       "      <th>...</th>\n",
       "      <th>cloud_9am</th>\n",
       "      <th>wind_direction_9am</th>\n",
       "      <th>wind_speed_9am</th>\n",
       "      <th>pressure_9am</th>\n",
       "      <th>temperature_3pm</th>\n",
       "      <th>humidity_3pm</th>\n",
       "      <th>cloud_3pm</th>\n",
       "      <th>wind_direction_3pm</th>\n",
       "      <th>wind_speed_3pm</th>\n",
       "      <th>pressure_3pm</th>\n",
       "    </tr>\n",
       "  </thead>\n",
       "  <tbody>\n",
       "    <tr>\n",
       "      <th>0</th>\n",
       "      <td>5019.64</td>\n",
       "      <td>LOW</td>\n",
       "      <td>15.6</td>\n",
       "      <td>29.9</td>\n",
       "      <td>0.0</td>\n",
       "      <td>2.8</td>\n",
       "      <td>9.3</td>\n",
       "      <td>NNE</td>\n",
       "      <td>31</td>\n",
       "      <td>1:14</td>\n",
       "      <td>...</td>\n",
       "      <td>6</td>\n",
       "      <td>N</td>\n",
       "      <td>2</td>\n",
       "      <td>1018.8</td>\n",
       "      <td>28.1</td>\n",
       "      <td>43</td>\n",
       "      <td>5</td>\n",
       "      <td>E</td>\n",
       "      <td>13</td>\n",
       "      <td>1015.3</td>\n",
       "    </tr>\n",
       "    <tr>\n",
       "      <th>1</th>\n",
       "      <td>4964.35</td>\n",
       "      <td>LOW</td>\n",
       "      <td>18.4</td>\n",
       "      <td>29.0</td>\n",
       "      <td>0.0</td>\n",
       "      <td>9.4</td>\n",
       "      <td>1.3</td>\n",
       "      <td>NNW</td>\n",
       "      <td>30</td>\n",
       "      <td>8:22</td>\n",
       "      <td>...</td>\n",
       "      <td>7</td>\n",
       "      <td>NNW</td>\n",
       "      <td>17</td>\n",
       "      <td>1013.3</td>\n",
       "      <td>28.7</td>\n",
       "      <td>38</td>\n",
       "      <td>7</td>\n",
       "      <td>SW</td>\n",
       "      <td>4</td>\n",
       "      <td>1008.5</td>\n",
       "    </tr>\n",
       "    <tr>\n",
       "      <th>2</th>\n",
       "      <td>4503.31</td>\n",
       "      <td>LOW</td>\n",
       "      <td>17.0</td>\n",
       "      <td>26.2</td>\n",
       "      <td>12.6</td>\n",
       "      <td>4.8</td>\n",
       "      <td>7.1</td>\n",
       "      <td>WSW</td>\n",
       "      <td>33</td>\n",
       "      <td>5:55</td>\n",
       "      <td>...</td>\n",
       "      <td>8</td>\n",
       "      <td>WSW</td>\n",
       "      <td>4</td>\n",
       "      <td>1007.7</td>\n",
       "      <td>23.5</td>\n",
       "      <td>59</td>\n",
       "      <td>4</td>\n",
       "      <td>SSW</td>\n",
       "      <td>2</td>\n",
       "      <td>1005.2</td>\n",
       "    </tr>\n",
       "    <tr>\n",
       "      <th>3</th>\n",
       "      <td>4764.18</td>\n",
       "      <td>LOW</td>\n",
       "      <td>16.0</td>\n",
       "      <td>18.6</td>\n",
       "      <td>2.6</td>\n",
       "      <td>3.8</td>\n",
       "      <td>0.0</td>\n",
       "      <td>SSE</td>\n",
       "      <td>41</td>\n",
       "      <td>4:03</td>\n",
       "      <td>...</td>\n",
       "      <td>8</td>\n",
       "      <td>SSE</td>\n",
       "      <td>11</td>\n",
       "      <td>1010.0</td>\n",
       "      <td>18.2</td>\n",
       "      <td>82</td>\n",
       "      <td>8</td>\n",
       "      <td>SSW</td>\n",
       "      <td>17</td>\n",
       "      <td>1011.0</td>\n",
       "    </tr>\n",
       "    <tr>\n",
       "      <th>4</th>\n",
       "      <td>4800.64</td>\n",
       "      <td>LOW</td>\n",
       "      <td>15.9</td>\n",
       "      <td>19.1</td>\n",
       "      <td>11.2</td>\n",
       "      <td>1.0</td>\n",
       "      <td>0.0</td>\n",
       "      <td>SSE</td>\n",
       "      <td>35</td>\n",
       "      <td>11:02</td>\n",
       "      <td>...</td>\n",
       "      <td>8</td>\n",
       "      <td>SSE</td>\n",
       "      <td>13</td>\n",
       "      <td>1012.5</td>\n",
       "      <td>18.2</td>\n",
       "      <td>82</td>\n",
       "      <td>8</td>\n",
       "      <td>SSE</td>\n",
       "      <td>19</td>\n",
       "      <td>1013.3</td>\n",
       "    </tr>\n",
       "  </tbody>\n",
       "</table>\n",
       "<p>5 rows × 22 columns</p>\n",
       "</div>"
      ],
      "text/plain": [
       "   max_total_demand max_price_category  temperature_min  temperature_max  \\\n",
       "0           5019.64                LOW             15.6             29.9   \n",
       "1           4964.35                LOW             18.4             29.0   \n",
       "2           4503.31                LOW             17.0             26.2   \n",
       "3           4764.18                LOW             16.0             18.6   \n",
       "4           4800.64                LOW             15.9             19.1   \n",
       "\n",
       "   rainfall  evaporation  sunshine max_wind_direction  max_wind_speed  \\\n",
       "0       0.0          2.8       9.3                NNE              31   \n",
       "1       0.0          9.4       1.3                NNW              30   \n",
       "2      12.6          4.8       7.1                WSW              33   \n",
       "3       2.6          3.8       0.0                SSE              41   \n",
       "4      11.2          1.0       0.0                SSE              35   \n",
       "\n",
       "  max_wind_time  ...  cloud_9am  wind_direction_9am  wind_speed_9am  \\\n",
       "0          1:14  ...          6                   N               2   \n",
       "1          8:22  ...          7                 NNW              17   \n",
       "2          5:55  ...          8                 WSW               4   \n",
       "3          4:03  ...          8                 SSE              11   \n",
       "4         11:02  ...          8                 SSE              13   \n",
       "\n",
       "  pressure_9am  temperature_3pm  humidity_3pm  cloud_3pm  wind_direction_3pm  \\\n",
       "0       1018.8             28.1            43          5                   E   \n",
       "1       1013.3             28.7            38          7                  SW   \n",
       "2       1007.7             23.5            59          4                 SSW   \n",
       "3       1010.0             18.2            82          8                 SSW   \n",
       "4       1012.5             18.2            82          8                 SSE   \n",
       "\n",
       "   wind_speed_3pm pressure_3pm  \n",
       "0              13       1015.3  \n",
       "1               4       1008.5  \n",
       "2               2       1005.2  \n",
       "3              17       1011.0  \n",
       "4              19       1013.3  \n",
       "\n",
       "[5 rows x 22 columns]"
      ]
     },
     "execution_count": 2,
     "metadata": {},
     "output_type": "execute_result"
    }
   ],
   "source": [
    "Combined = pd.read_csv('combined_detail_cleaned.csv',encoding= 'ISO-8859-1')\n",
    "Combined.head()"
   ]
  },
  {
   "cell_type": "code",
   "execution_count": 3,
   "metadata": {},
   "outputs": [],
   "source": [
    "#Get the value of the feature labels\n",
    "FEATURES = list(Combined.columns.values)"
   ]
  },
  {
   "cell_type": "code",
   "execution_count": 4,
   "metadata": {},
   "outputs": [
    {
     "data": {
      "text/plain": [
       "['temperature_min', 'temperature_9am', 'temperature_3pm']"
      ]
     },
     "execution_count": 4,
     "metadata": {},
     "output_type": "execute_result"
    }
   ],
   "source": [
    "# Analyse the correlations between max_total_demand with other numerical features, pick the features with abs correlation over 0.3\n",
    "correlation_table = Combined[FEATURES].corr(method='pearson')\n",
    "Possible_features = list(correlation_table.loc[abs(correlation_table['max_total_demand']) > 0.3].index)\n",
    "Possible_features.remove('max_total_demand')\n",
    "Possible_features"
   ]
  },
  {
   "cell_type": "code",
   "execution_count": 5,
   "metadata": {},
   "outputs": [
    {
     "data": {
      "text/html": [
       "<div>\n",
       "<style scoped>\n",
       "    .dataframe tbody tr th:only-of-type {\n",
       "        vertical-align: middle;\n",
       "    }\n",
       "\n",
       "    .dataframe tbody tr th {\n",
       "        vertical-align: top;\n",
       "    }\n",
       "\n",
       "    .dataframe thead th {\n",
       "        text-align: right;\n",
       "    }\n",
       "</style>\n",
       "<table border=\"1\" class=\"dataframe\">\n",
       "  <thead>\n",
       "    <tr style=\"text-align: right;\">\n",
       "      <th></th>\n",
       "      <th>temperature_min</th>\n",
       "      <th>temperature_9am</th>\n",
       "      <th>temperature_3pm</th>\n",
       "    </tr>\n",
       "  </thead>\n",
       "  <tbody>\n",
       "    <tr>\n",
       "      <th>temperature_min</th>\n",
       "      <td>1.000000</td>\n",
       "      <td>0.916641</td>\n",
       "      <td>0.666270</td>\n",
       "    </tr>\n",
       "    <tr>\n",
       "      <th>temperature_9am</th>\n",
       "      <td>0.916641</td>\n",
       "      <td>1.000000</td>\n",
       "      <td>0.765603</td>\n",
       "    </tr>\n",
       "    <tr>\n",
       "      <th>temperature_3pm</th>\n",
       "      <td>0.666270</td>\n",
       "      <td>0.765603</td>\n",
       "      <td>1.000000</td>\n",
       "    </tr>\n",
       "  </tbody>\n",
       "</table>\n",
       "</div>"
      ],
      "text/plain": [
       "                 temperature_min  temperature_9am  temperature_3pm\n",
       "temperature_min         1.000000         0.916641         0.666270\n",
       "temperature_9am         0.916641         1.000000         0.765603\n",
       "temperature_3pm         0.666270         0.765603         1.000000"
      ]
     },
     "execution_count": 5,
     "metadata": {},
     "output_type": "execute_result"
    }
   ],
   "source": [
    "#check the correlations between these possible features\n",
    "Independent_correlation_table = Combined[Possible_features].corr(method='pearson')\n",
    "Independent_correlation_table"
   ]
  },
  {
   "cell_type": "code",
   "execution_count": 6,
   "metadata": {},
   "outputs": [
    {
     "data": {
      "text/plain": [
       "['temperature_min', 'temperature_9am', 'temperature_3pm', 'max_total_demand']"
      ]
     },
     "execution_count": 6,
     "metadata": {},
     "output_type": "execute_result"
    }
   ],
   "source": [
    "#Prepare the possible features label and output label again\n",
    "Possible_features.append('max_total_demand')\n",
    "Possible_features"
   ]
  },
  {
   "cell_type": "code",
   "execution_count": 11,
   "metadata": {},
   "outputs": [
    {
     "data": {
      "text/html": [
       "<div>\n",
       "<style scoped>\n",
       "    .dataframe tbody tr th:only-of-type {\n",
       "        vertical-align: middle;\n",
       "    }\n",
       "\n",
       "    .dataframe tbody tr th {\n",
       "        vertical-align: top;\n",
       "    }\n",
       "\n",
       "    .dataframe thead th {\n",
       "        text-align: right;\n",
       "    }\n",
       "</style>\n",
       "<table border=\"1\" class=\"dataframe\">\n",
       "  <thead>\n",
       "    <tr style=\"text-align: right;\">\n",
       "      <th></th>\n",
       "      <th>temperature_min</th>\n",
       "      <th>temperature_9am</th>\n",
       "      <th>temperature_3pm</th>\n",
       "      <th>max_total_demand</th>\n",
       "    </tr>\n",
       "  </thead>\n",
       "  <tbody>\n",
       "    <tr>\n",
       "      <th>temperature_min</th>\n",
       "      <td>1.000000</td>\n",
       "      <td>0.916641</td>\n",
       "      <td>0.666270</td>\n",
       "      <td>-0.499240</td>\n",
       "    </tr>\n",
       "    <tr>\n",
       "      <th>temperature_9am</th>\n",
       "      <td>0.916641</td>\n",
       "      <td>1.000000</td>\n",
       "      <td>0.765603</td>\n",
       "      <td>-0.401323</td>\n",
       "    </tr>\n",
       "    <tr>\n",
       "      <th>temperature_3pm</th>\n",
       "      <td>0.666270</td>\n",
       "      <td>0.765603</td>\n",
       "      <td>1.000000</td>\n",
       "      <td>-0.325252</td>\n",
       "    </tr>\n",
       "    <tr>\n",
       "      <th>max_total_demand</th>\n",
       "      <td>-0.499240</td>\n",
       "      <td>-0.401323</td>\n",
       "      <td>-0.325252</td>\n",
       "      <td>1.000000</td>\n",
       "    </tr>\n",
       "  </tbody>\n",
       "</table>\n",
       "</div>"
      ],
      "text/plain": [
       "                  temperature_min  temperature_9am  temperature_3pm  \\\n",
       "temperature_min          1.000000         0.916641         0.666270   \n",
       "temperature_9am          0.916641         1.000000         0.765603   \n",
       "temperature_3pm          0.666270         0.765603         1.000000   \n",
       "max_total_demand        -0.499240        -0.401323        -0.325252   \n",
       "\n",
       "                  max_total_demand  \n",
       "temperature_min          -0.499240  \n",
       "temperature_9am          -0.401323  \n",
       "temperature_3pm          -0.325252  \n",
       "max_total_demand          1.000000  "
      ]
     },
     "execution_count": 11,
     "metadata": {},
     "output_type": "execute_result"
    }
   ],
   "source": [
    "#Analysis the correlation relationship between output and filtered features\n",
    "Combined[Possible_features].corr(method='pearson')"
   ]
  },
  {
   "cell_type": "code",
   "execution_count": 12,
   "metadata": {},
   "outputs": [],
   "source": [
    "# Since all possible features are self correlated, then just pick the one with highest correlation with output\n",
    "Final_features = list(correlation_table.loc[abs(correlation_table['max_total_demand']) > 0.45].index)\n",
    "Final_features.remove('max_total_demand')"
   ]
  },
  {
   "cell_type": "code",
   "execution_count": 13,
   "metadata": {},
   "outputs": [],
   "source": [
    "#Set the features and output into X , y\n",
    "X = Combined[Final_features]\n",
    "y = Combined['max_total_demand']"
   ]
  },
  {
   "cell_type": "code",
   "execution_count": 27,
   "metadata": {},
   "outputs": [
    {
     "name": "stdout",
     "output_type": "stream",
     "text": [
      "[-0.004151406159014215, 0.07986532903011845, 0.3543378605150912, 0.3044004894717397, 0.32230799365732965, 0.5261138598590477, -0.17843716479663851, 0.4482458440032411, 0.15479853624682471, 0.5349552562367903]\n",
      "0.25424365980645297\n"
     ]
    }
   ],
   "source": [
    "from sklearn import linear_model\n",
    "from sklearn.model_selection import train_test_split\n",
    "from sklearn.metrics import mean_squared_error, r2_score\n",
    "from sklearn import preprocessing\n",
    "from sklearn.model_selection import KFold\n",
    "\n",
    "# Prepare the experimental method to get the average performance\n",
    "k=10\n",
    "kf = KFold(n_splits=k, shuffle=True, random_state=42)\n",
    "R2_score = []\n",
    "for train_index, test_index in kf.split(X):\n",
    "    X_train, X_test = X.iloc[train_index, :], X.iloc[test_index, :]\n",
    "    y_train, y_test = y[train_index], y[test_index]    \n",
    "    lm = linear_model.LinearRegression()\n",
    "    lm.fit(X_train, y_train)\n",
    "    y_pred = lm.predict(X_test)   \n",
    "    R2_score.append(r2_score(y_test, y_pred))\n",
    "\n",
    "print(R2_score)\n",
    "print(sum(R2_score)/k)"
   ]
  },
  {
   "cell_type": "code",
   "execution_count": null,
   "metadata": {},
   "outputs": [],
   "source": []
  },
  {
   "cell_type": "code",
   "execution_count": null,
   "metadata": {},
   "outputs": [],
   "source": []
  },
  {
   "cell_type": "code",
   "execution_count": null,
   "metadata": {},
   "outputs": [],
   "source": [
    "Combined[Final_features].dtypes"
   ]
  },
  {
   "cell_type": "code",
   "execution_count": null,
   "metadata": {},
   "outputs": [],
   "source": [
    "Combined['AVGt_tem'] = round((Combined['temperature_min'] + Combined['temperature_max'] + Combined['temperature_9am'] + Combined['temperature_3pm'])/4, 2)\n",
    "Possible_features = ['AVGt_tem']\n",
    "#+ round(total_sales['tickets_sold'] / total_sales['max_capacity'], 2)"
   ]
  },
  {
   "cell_type": "code",
   "execution_count": null,
   "metadata": {},
   "outputs": [],
   "source": [
    "Possible_Select_FEATURES.append('max_total_demand')\n",
    "Possible_Select_FEATURES"
   ]
  },
  {
   "cell_type": "code",
   "execution_count": null,
   "metadata": {},
   "outputs": [],
   "source": [
    "Combined[Possible_Select_FEATURES].corr(method='pearson')"
   ]
  },
  {
   "cell_type": "code",
   "execution_count": null,
   "metadata": {},
   "outputs": [],
   "source": [
    "Possible_features = [ 'temperature_max',\n",
    "                     'sunshine',\n",
    "                     'humidity_9am',\n",
    "                     'cloud_9am',\n",
    "                     'wind_speed_9am',\n",
    "                    'max_total_demand']"
   ]
  },
  {
   "cell_type": "code",
   "execution_count": null,
   "metadata": {},
   "outputs": [],
   "source": [
    "Combined[Possible_features].corr(method='pearson')"
   ]
  },
  {
   "cell_type": "code",
   "execution_count": null,
   "metadata": {},
   "outputs": [],
   "source": [
    "X = Combined[Possible_features]\n",
    "y = Combined['max_total_demand']"
   ]
  },
  {
   "cell_type": "markdown",
   "metadata": {},
   "source": [
    "# With K folder method"
   ]
  },
  {
   "cell_type": "code",
   "execution_count": null,
   "metadata": {},
   "outputs": [],
   "source": [
    "from sklearn import linear_model\n",
    "from sklearn.model_selection import train_test_split\n",
    "from sklearn.metrics import mean_squared_error, r2_score\n",
    "from sklearn import preprocessing\n",
    "from sklearn.model_selection import KFold\n",
    "\n",
    "k=10\n",
    "kf = KFold(n_splits=k, shuffle=True, random_state=42)\n",
    "R2_score = []\n",
    "for train_index, test_index in kf.split(X):\n",
    "    X_train, X_test = X.iloc[train_index, :], X.iloc[test_index, :]\n",
    "    y_train, y_test = y[train_index], y[test_index]    \n",
    "    lm = linear_model.LinearRegression()\n",
    "    lm.fit(X_train, y_train)\n",
    "    y_pred = lm.predict(X_test)\n",
    "    \n",
    "    \n",
    "    R2_score.append(r2_score(y_test, y_pred))\n",
    "\n",
    "print(R2_score)\n",
    "print(sum(R2_score)/k)\n"
   ]
  },
  {
   "cell_type": "code",
   "execution_count": null,
   "metadata": {},
   "outputs": [],
   "source": [
    "y_test"
   ]
  },
  {
   "cell_type": "code",
   "execution_count": null,
   "metadata": {},
   "outputs": [],
   "source": [
    "# Step 0: Preprocess\n",
    "# randomly select 80% of the instances to be training and the rest to be testing\n",
    "X_train, X_test, y_train, y_test = train_test_split(X, y, test_size=0.3, random_state = 42)"
   ]
  },
  {
   "cell_type": "markdown",
   "metadata": {},
   "source": [
    "# Without K folder method"
   ]
  },
  {
   "cell_type": "code",
   "execution_count": null,
   "metadata": {},
   "outputs": [],
   "source": [
    "# Step 1: Instantiate\n",
    "lm = linear_model.LinearRegression()"
   ]
  },
  {
   "cell_type": "code",
   "execution_count": null,
   "metadata": {},
   "outputs": [],
   "source": [
    "# Step 2: Fit\n",
    "lm.fit(X_train, y_train)"
   ]
  },
  {
   "cell_type": "code",
   "execution_count": null,
   "metadata": {},
   "outputs": [],
   "source": [
    "print(lm.coef_,lm.intercept_)"
   ]
  },
  {
   "cell_type": "code",
   "execution_count": null,
   "metadata": {},
   "outputs": [],
   "source": [
    "r2_test = lm.score(X_test, y_test)\n",
    "print(r2_test)"
   ]
  },
  {
   "cell_type": "code",
   "execution_count": null,
   "metadata": {},
   "outputs": [],
   "source": [
    "# Step 3: Predict\n",
    "y_pred = lm.predict(X_test)"
   ]
  },
  {
   "cell_type": "code",
   "execution_count": null,
   "metadata": {},
   "outputs": [],
   "source": [
    "mean_squared_error(y_pred, y_test)"
   ]
  },
  {
   "cell_type": "code",
   "execution_count": null,
   "metadata": {},
   "outputs": [],
   "source": [
    "r2_score(y_test, y_pred)"
   ]
  },
  {
   "cell_type": "code",
   "execution_count": null,
   "metadata": {},
   "outputs": [],
   "source": [
    "# Step 4: Evaluate\n",
    "print(f'mean squared error: {mean_squared_error(y_pred, y_test)}')\n",
    "print(f'r2 score: {r2_score(y_test, y_pred)}')"
   ]
  },
  {
   "cell_type": "code",
   "execution_count": null,
   "metadata": {},
   "outputs": [],
   "source": []
  },
  {
   "cell_type": "code",
   "execution_count": null,
   "metadata": {},
   "outputs": [],
   "source": []
  },
  {
   "cell_type": "code",
   "execution_count": null,
   "metadata": {},
   "outputs": [],
   "source": []
  },
  {
   "cell_type": "code",
   "execution_count": null,
   "metadata": {},
   "outputs": [],
   "source": []
  },
  {
   "cell_type": "code",
   "execution_count": null,
   "metadata": {},
   "outputs": [],
   "source": []
  },
  {
   "cell_type": "code",
   "execution_count": null,
   "metadata": {},
   "outputs": [],
   "source": [
    "# Calculate the Pearson's R correlation metric\n",
    "Combined[FEATURES] = Combined[FEATURES].astype(float)\n",
    "Combined[FEATURES].corr(method='pearson')"
   ]
  }
 ],
 "metadata": {
  "kernelspec": {
   "display_name": "Python 3",
   "language": "python",
   "name": "python3"
  },
  "language_info": {
   "codemirror_mode": {
    "name": "ipython",
    "version": 3
   },
   "file_extension": ".py",
   "mimetype": "text/x-python",
   "name": "python",
   "nbconvert_exporter": "python",
   "pygments_lexer": "ipython3",
   "version": "3.7.4"
  }
 },
 "nbformat": 4,
 "nbformat_minor": 4
}
