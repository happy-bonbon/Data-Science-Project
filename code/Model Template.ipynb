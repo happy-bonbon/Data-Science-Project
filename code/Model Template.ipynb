{
 "cells": [
  {
   "cell_type": "code",
   "execution_count": null,
   "metadata": {},
   "outputs": [],
   "source": [
    "# linear regression = demand prediction\n",
    "# classification = price prediction\n",
    "\n",
    "from sklearn import linear_model\n",
    "from sklearn.model_selection import train_test_split\n",
    "from sklearn.metrics import mean_squared_error, r2_score\n",
    "\n",
    "X = df[[],[]]\n",
    "y = target[ ]\n",
    "\n",
    "# Instantiate\n",
    "lm = linear_model.LinearRegression()\n",
    "\n",
    "# Fit\n",
    "lm.fit(X_train, y_train)\n",
    "\n",
    "# Predict\n",
    "Y_pred = lm.predict(X_test)\n",
    "\n",
    "# Evaluate\n",
    "print(‘mean squared error’ , mean_squared_error(y_pred, y_test))\n",
    "print(‘r2 score’ , r2_score(y_pred, y_test)\n",
    "\n"
   ]
  }
 ],
 "metadata": {
  "kernelspec": {
   "display_name": "Python 3",
   "language": "python",
   "name": "python3"
  },
  "language_info": {
   "codemirror_mode": {
    "name": "ipython",
    "version": 3
   },
   "file_extension": ".py",
   "mimetype": "text/x-python",
   "name": "python",
   "nbconvert_exporter": "python",
   "pygments_lexer": "ipython3",
   "version": "3.7.4"
  }
 },
 "nbformat": 4,
 "nbformat_minor": 4
}
