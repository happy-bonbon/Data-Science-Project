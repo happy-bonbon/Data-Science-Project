{
 "cells": [
  {
   "cell_type": "code",
   "execution_count": null,
   "metadata": {},
   "outputs": [],
   "source": [
    "import pandas as pd\n",
    "from sklearn import preprocessing\n",
    "from sklearn.model_selection import KFold\n",
    "from sklearn.metrics import accuracy_score\n",
    "from sklearn.tree import DecisionTreeClassifier\n",
    "\n",
    "\n",
    "def main():\n",
    "    '''classification for Max Price Category VS Weather O(n**3)'''\n",
    "    \n",
    "    # read csv file\n",
    "    dataset = pd.read_csv('Data/combined_detail_cleaned.csv')\n",
    "\n",
    "    # Selecting features\n",
    "    features = dataset[['temperature_min','rainfall', \n",
    "                        'evaporation', 'sunshine', 'max_wind_speed']]\n",
    "    \n",
    "    classlabel = dataset['max_price_category']\n",
    "\n",
    "\n",
    "                \n",
    "                # Split Training and Test sets\n",
    "                features_train, feature_test = features.iloc[train_index, :], features.iloc[test_index, :]\n",
    "                class_train, class_test = classlabel[train_index], classlabel[test_index]\n",
    "                \n",
    "                # Scaling the features\n",
    "                scalar = preprocessing.StandardScaler().fit(features_train)\n",
    "                features_train = scalar.transform(features_train)\n",
    "                feature_test = scalar.transform(feature_test)\n",
    "            \n",
    "                # Step 1: Instantiate \n",
    "                dt = DecisionTreeClassifier(\n",
    "                    criterion='entropy', random_state=88, max_depth = x_times)\n",
    "                \n",
    "                # Step 2: Fit\n",
    "                dt.fit(features_train, class_train)\n",
    "                \n",
    "                # Step 3: Predict\n",
    "                predictions = dt.predict(feature_test)\n",
    "                \n",
    "                # Step 4: Evaluate\n",
    "                my_score=accuracy_score(class_test, predictions)\n",
    "                classification_accuracy.append(my_score)\n",
    "            print(f'The AVG {k}-Fold Accuracy Score with Max depth of {x_times} is {sum(classification_accuracy)/k}')\n",
    "        \n",
    "\n",
    "if __name__ == \"__main__\":\n",
    "    main()\n"
   ]
  }
 ],
 "metadata": {
  "kernelspec": {
   "display_name": "Python 3.9.12 ('base')",
   "language": "python",
   "name": "python3"
  },
  "language_info": {
   "name": "python",
   "version": "3.9.12"
  },
  "orig_nbformat": 4,
  "vscode": {
   "interpreter": {
    "hash": "ad2bdc8ecc057115af97d19610ffacc2b4e99fae6737bb82f5d7fb13d2f2c186"
   }
  }
 },
 "nbformat": 4,
 "nbformat_minor": 2
}
